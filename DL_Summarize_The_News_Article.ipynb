{
  "nbformat": 4,
  "nbformat_minor": 0,
  "metadata": {
    "colab": {
      "provenance": []
    },
    "kernelspec": {
      "name": "python3",
      "display_name": "Python 3"
    },
    "language_info": {
      "name": "python"
    }
  },
  "cells": [
    {
      "cell_type": "code",
      "source": [
        "from newspaper import Article\n",
        "from transformers import pipeline\n",
        "\n",
        "\n",
        "def chunk_text(text, max_chunk_size=1024):\n",
        "    sentences = text.split('. ')\n",
        "    chunks = []\n",
        "    current_chunk = \"\"\n",
        "\n",
        "    for sentence in sentences:\n",
        "        if len(current_chunk) + len(sentence) <= max_chunk_size:\n",
        "            current_chunk += sentence + \". \"\n",
        "        else:\n",
        "            chunks.append(current_chunk.strip())\n",
        "            current_chunk = sentence + \". \"\n",
        "\n",
        "        chunks.append(current_chunk.strip())\n",
        "\n",
        "    return chunks\n",
        "\n",
        "\n",
        "def extract_article(url):\n",
        "    try:\n",
        "        article = Article(url)\n",
        "        article.download()\n",
        "        article.parse()\n",
        "        return article.text\n",
        "    except Exception as e:\n",
        "        print(f\"An error occurred while extracting the article: {e}\")\n",
        "        return None\n",
        "\n",
        "def summarize_article(article_text):\n",
        "    summarizer = pipeline(\"summarization\", model=\"facebook/bart-large-cnn\")\n",
        "\n",
        "\n",
        "    chunks = chunk_text(article_text)\n",
        "    summary = []\n",
        "\n",
        "    for chunk in chunks:\n",
        "        input_length = len(chunk.split())\n",
        "        max_length = min(150, input_length - 1)\n",
        "\n",
        "        if input_length < 50:\n",
        "            max_length = 30\n",
        "            min_length = 10\n",
        "\n",
        "        try:\n",
        "            chunk_summary = summarizer(chunk, max_length=max_length, min_length=int(max_length/2), do_sample=False)\n",
        "            summary.append(chunk_summary[0]['summary_text'])\n",
        "        except Exception as e:\n",
        "            print(f\"An error occurred during summarization: {e}\")\n",
        "            continue\n",
        "\n",
        "    return \"\\n\\n\".join(summary).strip()\n",
        "\n",
        "def count_words(text):\n",
        "    return len(text.split())\n",
        "\n",
        "def summarize_news_article(url):\n",
        "    article_text = extract_article(url)\n",
        "    if article_text:\n",
        "        original_word_count = count_words(article_text)\n",
        "        print(f\"Original article word count: {original_word_count} words\")\n",
        "\n",
        "        print(\"Article extracted successfully! Summarizing the article now...\\n\")\n",
        "        summary = summarize_article(article_text)\n",
        "\n",
        "        if summary:\n",
        "            summarized_word_count = count_words(summary)\n",
        "            print(f\"Summarized article word count: {summarized_word_count} words\")\n",
        "            print(\"Summary:\\n\", summary)\n",
        "        else:\n",
        "            print(\"Failed to summarize the article.\")\n",
        "    else:\n",
        "        print(\"Failed to extract the article.\")\n",
        "\n",
        "\n",
        "if __name__ == \"__main__\":\n",
        "    url = input(\"Enter the news article URL: \")\n",
        "    summarize_news_article(url)\n"
      ],
      "metadata": {
        "id": "AmFbErbOoIwC",
        "colab": {
          "base_uri": "https://localhost:8080/"
        },
        "outputId": "ae5bb046-dab8-4e77-a945-5aace484ea97"
      },
      "execution_count": 8,
      "outputs": [
        {
          "output_type": "stream",
          "name": "stdout",
          "text": [
            "Enter the news article URL: https://indianexpress.com/article/political-pulse/in-maharashtra-sharad-pawar-has-last-laugh-as-mahayuti-leaders-make-a-beeline-to-join-his-party-9567474/?ref=hometop_hp\n",
            "Original article word count: 580 words\n",
            "Article extracted successfully! Summarizing the article now...\n",
            "\n",
            "Summarized article word count: 234 words\n",
            "Summary:\n",
            " Five senior leaders from the BJP and the Ajit Pawar-led NCP have crossed over to the NCP (SP) since April. On Thursday, NCP leader Bhagyashree Atram, the daughter of an NCP minister, switched to Sharad Pawar’s party. She said her father was giving false assurance of welfare to the public.\n",
            "\n",
            "The NCP (SP) bagged eight of the 10 seats it contested. The overall tally of the Opposition Maha Vikas Aghadi (MVA) was 30 out of 48 seats. The ruling Mahayuti alliance of the BJP, Chief Minister Eknath Shinde-led Shiv Sena, and the NCP could manage to get only 17 seats.\n",
            "\n",
            "Among Mahayuti partners, the NCP proved to be the worst performer, winning only one seat as compared to the BJP’s nine and the Shinde Sena's seven seats. In June, following the Lok Sabha polls, former Union Minister Suryakanta Patil came back to the N CP (SP) after a ten-year stint with the BJP. On September 4, former Kolhapur district unit BJP chief Samrjeetsinh Ghatge, who was considered a staunch supporter of Deputy CM Devendra Fadanavis, left the BJP to join NCP (SP).\n",
            "\n",
            "Former BJP MLA Bapusaheb Pathare has already claimed that he would contest the polls on the NCP(SP) symbol. He is hoping to contest from the Kagal seat in the Kolhapur district for the coming Assembly polls. NCP (SP)’s Maharashtra unit chief Jayant Patil said he was not “aware of Pathare seeking support’.\n"
          ]
        }
      ]
    },
    {
      "cell_type": "code",
      "source": [],
      "metadata": {
        "id": "FzNHmcdXqsD3"
      },
      "execution_count": null,
      "outputs": []
    }
  ]
}